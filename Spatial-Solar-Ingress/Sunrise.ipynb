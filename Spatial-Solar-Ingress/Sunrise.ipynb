{
 "cells": [
  {
   "cell_type": "raw",
   "id": "30419a40",
   "metadata": {},
   "source": [
    "from astral.sun import sun\n",
    "from astral import LocationInfo\n",
    "import datetime\n",
    "loc = LocationInfo(name='', region='', timezone='GMT',\n",
    "                   latitude=12.9716, longitude=77.496)\n",
    "print(loc)\n",
    "s = sun(loc.observer, date=datetime.date(2022, 11, 8), tzinfo=loc.timezone)\n",
    "print(s)"
   ]
  },
  {
   "cell_type": "markdown",
   "id": "1ae6794f",
   "metadata": {},
   "source": []
  }
 ],
 "metadata": {
  "kernelspec": {
   "display_name": "Python 3 (ipykernel)",
   "language": "python",
   "name": "python3"
  },
  "language_info": {
   "codemirror_mode": {
    "name": "ipython",
    "version": 3
   },
   "file_extension": ".py",
   "mimetype": "text/x-python",
   "name": "python",
   "nbconvert_exporter": "python",
   "pygments_lexer": "ipython3",
   "version": "3.8.8"
  }
 },
 "nbformat": 4,
 "nbformat_minor": 5
}
