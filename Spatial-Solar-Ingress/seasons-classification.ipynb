{
 "cells": [
  {
   "cell_type": "code",
   "execution_count": 3,
   "id": "33d1e495",
   "metadata": {},
   "outputs": [],
   "source": [
    "import datetime\n",
    "import math\n",
    "from datetime import date\n",
    "from geopy.geocoders import Nominatim\n",
    "import pandas as pd\n",
    "from time import sleep\n",
    "import xlwt\n",
    "from xlwt import Workbook\n",
    "from geopy.exc import GeocoderTimedOut\n",
    "import time\n",
    "import geopy\n",
    "\n",
    "def main():\n",
    "    print('Hello World')\n",
    "    initiate_data_ret()\n",
    "\n",
    "## Returns the number of days completed till the given date from the starting of the year.\n",
    "def numOfDays(date1, date2):\n",
    "    return (date2-date1).days\n",
    "\n",
    "## Compute whether NH / SH based on the input Date.\n",
    "def compute_hemisphere(month,l_day):\n",
    "        if month > 2 and month < 9:\n",
    "            if month == 3 and l_day < 20:\n",
    "                return 'SH'\n",
    "            elif month == 9 and l_day < 20:\n",
    "                return 'NH'\n",
    "            elif month in (3,4,5,6,7,8):\n",
    "                return 'NH'\n",
    "            elif month in (1,2,9,10,11,12):\n",
    "                return 'SH'\n",
    "        else:\n",
    "            return 'SH'\n",
    "\n",
    "## Compute Declination based on the no.of days completed and NH/SH\n",
    "def compute_declination(d_ct,hemi):\n",
    "    if hemi == 'NH':\n",
    "        return 0 - round(23.45 + math.cos(0.9863*(d_ct+10)),4)\n",
    "    else:\n",
    "        return round(23.45 + math.cos(0.9863*(d_ct+10)),4)\n",
    "    \n",
    "## Compute Sun's altitude based on the dates given\n",
    "def compute_seasons_astro(p_place,declin,month,l_day):\n",
    "    try:\n",
    "        l_lat = p_place\n",
    "        \n",
    "        ## Spring and Autumnal Equinoxes\n",
    "        if ((month == 3 and l_day >= 20) or (month == 9 and l_day >= 20) or (month in (4,5,10,11)) or (month == 6 and l_day < 20)):\n",
    "            return round((90 - l_lat),0)\n",
    "        ## Winter and Summer Solstices\n",
    "        elif ((month == 3 and l_day < 20) or (month in (7,8,12,1,2)) or (month == 6 and l_day >= 20) or (month == 9 and l_day < 20)):\n",
    "            return round((90 - l_lat + declin),0)\n",
    "    except:\n",
    "        return 0\n",
    "    \n",
    "    \n",
    "## Driver Manager for the entire exercise    \n",
    "def initiate_data_ret():\n",
    "    date_time_str = '2018-10-21 08:15:27.243860'\n",
    "    ##loc = 'Nellore Andhra Pradesh 524002'\n",
    "    ##loc = 'Sydney Australia 2055'\n",
    "\n",
    "    \n",
    "    date_time_obj = datetime.datetime.strptime(date_time_str, '%Y-%m-%d %H:%M:%S.%f')\n",
    "    # Calculate the no of days 'd' - a value req for Declination\n",
    "    l_year = int(date_time_obj.year)\n",
    "    l_month = int(date_time_obj.month)\n",
    "    l_day = date_time_obj.day\n",
    "    date2 = date(l_year, l_month,l_day)\n",
    "    date1 = date(l_year, 1, 1)\n",
    "    days = numOfDays(date1, date2)\n",
    "    l_hem = compute_hemisphere(l_month,l_day)\n",
    "    l_decl = compute_declination(days,l_hem)\n",
    "    geocoder = Nominatim()\n",
    "    df = pd.read_csv('latitudes-list-wd.csv')\n",
    "    # Workbook is created\n",
    "    wb = Workbook()\n",
    "    sheet1 = wb.add_sheet('Sheet 1')\n",
    "    sheet1.write(0, 0, 'COUNTRY')\n",
    "    sheet1.write(0, 1, 'LATITUDE')\n",
    "    sheet1.write(0, 2, 'ALTITUDE')\n",
    "    sheet1.write(0, 3, 'SEASON')\n",
    "    wb.save('Seasons.xls')\n",
    "    for index, row in df.iterrows():\n",
    "        ##altitude = compute_seasons_astro(geocoder.geocode(row[\"country\"], timeout=geopy.geocoders.base.DEFAULT_SENTINEL),l_decl)\n",
    "        altitude = compute_seasons_astro(row[\"latitude\"],l_decl,l_month,l_day)\n",
    "        sheet1.write(index+1, 0, row[\"country\"])\n",
    "        sheet1.write(index+1, 1, row[\"latitude\"])\n",
    "        sheet1.write(index+1, 2, altitude)\n",
    "        if altitude <= 100:\n",
    "            sheet1.write(index+1, 3, 'Winter')\n",
    "        elif altitude > 100:\n",
    "            sheet1.write(index+1, 3, 'Summer')\n",
    "        elif altitude == 0:\n",
    "            sheet1.write(index+1, 3, 'None')\n",
    "        wb.save('Seasons.xls')\n",
    "            "
   ]
  },
  {
   "cell_type": "code",
   "execution_count": 4,
   "id": "82918808",
   "metadata": {
    "scrolled": true
   },
   "outputs": [
    {
     "name": "stdout",
     "output_type": "stream",
     "text": [
      "1642004103.2873967\n"
     ]
    },
    {
     "name": "stderr",
     "output_type": "stream",
     "text": [
      "<ipython-input-3-0bfe520789ec>:74: DeprecationWarning: Using Nominatim with the default \"geopy/1.21.0\" `user_agent` is strongly discouraged, as it violates Nominatim's ToS https://operations.osmfoundation.org/policies/nominatim/ and may possibly cause 403 and 429 HTTP errors. Please specify a custom `user_agent` with `Nominatim(user_agent=\"my-application\")` or by overriding the default `user_agent`: `geopy.geocoders.options.default_user_agent = \"my-application\"`. In geopy 2.0 this will become an exception.\n",
      "  geocoder = Nominatim()\n"
     ]
    },
    {
     "name": "stdout",
     "output_type": "stream",
     "text": [
      "1642004103.7589552\n"
     ]
    }
   ],
   "source": [
    "print(time.time())\n",
    "initiate_data_ret()\n",
    "print(time.time())"
   ]
  }
 ],
 "metadata": {
  "kernelspec": {
   "display_name": "Python 3 (ipykernel)",
   "language": "python",
   "name": "python3"
  },
  "language_info": {
   "codemirror_mode": {
    "name": "ipython",
    "version": 3
   },
   "file_extension": ".py",
   "mimetype": "text/x-python",
   "name": "python",
   "nbconvert_exporter": "python",
   "pygments_lexer": "ipython3",
   "version": "3.8.8"
  }
 },
 "nbformat": 4,
 "nbformat_minor": 5
}
